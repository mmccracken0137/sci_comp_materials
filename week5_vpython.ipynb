{
 "cells": [
  {
   "cell_type": "markdown",
   "metadata": {},
   "source": [
    "## Hello, human.  It's our $(N+1)^{th}$ week of python! "
   ]
  },
  {
   "cell_type": "markdown",
   "metadata": {},
   "source": [
    "This week, you'll be experimenting with the world of visual simulations.  We briefly discussed the Euler updating algorithm a few weeks ago.  This algorithm gives us a way updating the position of an object using Newton's Second Law (NII) and a finite (but small) timestep $dt$.\n",
    "\n",
    "The vpython code below gives a very basic demonstration of the basics of modeling a dynamical system.  Your goal for this week (see programming assignment) is to modify this program to simulate a very different system: a planetary one!  Though the forces involved in the planetary case are quite different than the simple bounce program below, the skeleton of the program shouldn't change: calculate the force, update the velocity, update the position, REPEAT!\n",
    "\n",
    "We'll walk through the code below as a group, and then you can modify it to make your own simulation."
   ]
  },
  {
   "cell_type": "code",
   "execution_count": null,
   "metadata": {
    "collapsed": false
   },
   "outputs": [],
   "source": [
    "from vpython import *\n",
    "import random as rand\n",
    "\n",
    "scene.caption = \"\"\"Right button drag or Ctrl-drag to rotate \"camera\" to view scene.\n",
    "To zoom, drag with middle button or Alt/Option depressed, or use scroll wheel.\n",
    "     On a two-button mouse, middle is left + right.\n",
    "Touch screen: pinch/extend to zoom, swipe or two-finger rotate.\"\"\"\n",
    "\n",
    "# this block of code sets up some of the basic viewing parameters\n",
    "side = 4.0\n",
    "thk = 0.3\n",
    "s2 = 2*side - thk\n",
    "s3 = 2*side + thk\n",
    "wallR = box (pos=vector( side, 0, 0), size=vector(thk, s2, s3),  color = color.red)\n",
    "wallL = box (pos=vector(-side, 0, 0), size=vector(thk, s2, s3),  color = color.red)\n",
    "wallB = box (pos=vector(0, -side, 0), size=vector(s3, thk, s3),  color = color.blue)\n",
    "wallT = box (pos=vector(0,  side, 0), size=vector(s3, thk, s3),  color = color.blue)\n",
    "wallBK = box(pos=vector(0, 0, -side), size=vector(s2, s2, thk), color = color.gray(0.7))\n",
    "\n",
    "# the block below initializes the ball, and imbues it with some initial qualities, some of them\n",
    "# related to the ball's motion.\n",
    "ball = sphere (color = color.green, radius = 0.4, make_trail=True, retain=100, \n",
    "               trail_color=color.cyan)\n",
    "ball.mass = 1.0\n",
    "ball.velocity = vector(-2.0, 0.0, -2.9)\n",
    "side = side - thk*0.5 - ball.radius\n",
    "ball.pos = vector(side-0.3, side-0.3, side-0.3)\n",
    "\n",
    "# here are some of the dunamical parameters that we'll need for the simulation.  \n",
    "# note that vpython knows about 3d spatial vectors, so we can use this data type to handle the force.\n",
    "dt = 0.001\n",
    "t = 0.0\n",
    "f = vector(0, -9.8*ball.mass, 0.0)\n",
    "a = (1/ball.mass)*f\n",
    "\n",
    "# simulation starts HERE\n",
    "while True:\n",
    "    rate(400)\n",
    "    t = t + dt\n",
    "    # update the force, if necessary\n",
    "    f = vector(0, -9.8*ball.mass, 0.0) - 0.1*ball.velocity.norm()*ball.velocity.mag2\n",
    "    a = (1/ball.mass)*f\n",
    "    ball.velocity = ball.velocity + a*dt \n",
    "    ball.pos = ball.pos + ball.velocity*dt\n",
    "    # if the ball leaves the LEFT side of the box --> BOUNCE\n",
    "    if ball.pos.x < -side:\n",
    "        ball.velocity.x = -ball.velocity.x\n",
    "        ball.pos.x = -side\n",
    "    # if the ball leaves the RIGHT side of the box --> BOUNCE\n",
    "    if ball.pos.x > side:\n",
    "        ball.velocity.x = -ball.velocity.x\n",
    "        ball.pos.x = side\n",
    "    # bounce off of the bottom of the box\n",
    "    if ball.pos.y < -side:\n",
    "        ball.velocity.y = -ball.velocity.y\n",
    "        ball.pos.y = -side\n",
    "    # bounce off of the top of the box\n",
    "    if ball.pos.y > side:\n",
    "        ball.velocity.y = -ball.velocity.y\n",
    "        ball.pos.y = side\n",
    "    # bounce off the bottom of the box\n",
    "    if ball.pos.z < -side:\n",
    "        ball.velocity.z = -ball.velocity.z\n",
    "        ball.pos.z = -side\n",
    "    # bounce off the top, if necessary\n",
    "    if ball.pos.z > side:\n",
    "        ball.velocity.z = -ball.velocity.z\n",
    "        ball.pos.z = side\n",
    "        "
   ]
  },
  {
   "cell_type": "markdown",
   "metadata": {
    "collapsed": true
   },
   "source": [
    "## See you after break for MATLAB\n",
    "\n",
    "Sincerely,\n",
    "\n",
    "The Automator"
   ]
  }
 ],
 "metadata": {
  "anaconda-cloud": {},
  "kernelspec": {
   "display_name": "VPython",
   "language": "python",
   "name": "vpython"
  },
  "language_info": {
   "codemirror_mode": {
    "name": "ipython",
    "version": 3
   },
   "file_extension": ".py",
   "mimetype": "text/x-python",
   "name": "python",
   "nbconvert_exporter": "python",
   "pygments_lexer": "ipython3",
   "version": "3.6.0"
  }
 },
 "nbformat": 4,
 "nbformat_minor": 0
}
