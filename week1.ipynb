{
 "cells": [
  {
   "cell_type": "markdown",
   "metadata": {},
   "source": [
    "## Welcome back, earthling.  You have made it to to week 1."
   ]
  },
  {
   "cell_type": "markdown",
   "metadata": {},
   "source": [
    "### I) RECAP\n",
    "\n",
    "Last time you learned and practiced some of the basics of programming and python syntax.  At this point, perhaps you think of python and your computer as a big, awkward calculator.  Be patient.\n",
    "\n",
    "Last week you learned basic operational syntax and variable declaration.  This is good if all you want to do is quick one-off calculations.  The really useful stuff from last week was loops and control structures: for loops, while loops, and if statements.  These allow you to tell your computer to do long, tedious calculations while you go off and have a cup of coffee or do some other enjoyable human thing. (Appreciate art?  Comprehend metaphors?  We're running out of human things to do...)\n",
    "\n",
    "In addition, you learned how to define a function.  Once a function is defined, it may be used anywhere in a program, usually inside of a loop, to automate repetitive, tedious calculations.  You'll get more practice with that soon.\n",
    "\n",
    "This week, we'll exercise two of the tools that make computing so useful for the physical sciences.\n",
    "\n",
    "### II) Random number generation\n",
    "\n",
    "One of the breakthroughs that computing allowed scientists to make is progress in statistical sciences.  Generating large random or pseudo-random datasets to study is difficult.  In the old days, if I wanted to investigate the large-scale/statistical properties of something like a game of blackjack (you know, for cheating reasons), I had to actually *deal* many games of blackjack.  Ugh!  Gross.  That would take so much time!  With computers, I can generate millions of blackjack hands according to the deck properties and history with a bit of sly programming.  This hinges on a) the computer's ability to do loops and b) the computer's ability to generate random numbers.\n",
    "\n",
    "Python has modules for generating random numbers.  A *module* is a bit of code that python is able to use (almost like a book of extra knowledge), but that python doesn't pre-load without you telling it.  In order to have access to the built-in stuff in the random number generation module, we need to tell python to load it before we do any calculations.  \n",
    "\n",
    "This process is analogous to the way that humans work.  Pretend that you and I are going on a camping trip on which we'll need to defend ourselves from bears.  You are perfectly capable of protecting us from bears, but you'll need to learn the skills before we go.  You *can* do it, you just don't know *how* yet.  SO!  Before we leave and start camping, I ask you to go to the library and read the book \"HOW TO DEFEND ONESELF FROM BEARS\" to load the knowledge into your brain/mind.  After you do that, I can call on you to execute many bear-defense strategies: stab, jump, bear headlock, play dead, etc.\n",
    "\n",
    "Okay enough goofing around.  Here's an example:"
   ]
  },
  {
   "cell_type": "code",
   "execution_count": null,
   "metadata": {
    "collapsed": false
   },
   "outputs": [],
   "source": [
    "import random as rand # this line adds the random \n",
    "                      # module and gives it a shorter handle\n",
    "a = rand.random()\n",
    "print(a)"
   ]
  },
  {
   "cell_type": "markdown",
   "metadata": {},
   "source": [
    "In the first line, I imported the \"random\" module and called it something shorter, \"rand\".  In the second line, I told python to access the \"random( )\" function of \"rand\".  This function evidently generates a random number.  Execute the above a few times to see how the random number varies.\n",
    "\n",
    "The random module has LOTS of features in addition to random( ).  It's pretty sophisticated.\n",
    "\n",
    "Let's put random( ) inside of a loop to generate a whole mess of numbers:"
   ]
  },
  {
   "cell_type": "code",
   "execution_count": null,
   "metadata": {
    "collapsed": false
   },
   "outputs": [],
   "source": [
    "for i in range(20):\n",
    "    num = rand.random()\n",
    "    print(num)"
   ]
  },
  {
   "cell_type": "markdown",
   "metadata": {},
   "source": [
    "It looks like every time we call random( ), it generates a new number between 0 and 1.  Good to know.\n",
    "\n",
    "There are MANY ways to use this very simple tool.  One can transform the range range of the numbers quite easily.  Here's a loop that prints 20 random numbers between -1 and 1:"
   ]
  },
  {
   "cell_type": "code",
   "execution_count": null,
   "metadata": {
    "collapsed": false
   },
   "outputs": [],
   "source": [
    "for i in range(20):\n",
    "    rnum = rand.random()\n",
    "    new_num = 2.0*rnum - 1.0\n",
    "    print(new_num)"
   ]
  },
  {
   "cell_type": "markdown",
   "metadata": {},
   "source": [
    "Here's a snippet that writes a bunch of random points in two-dimensional space:"
   ]
  },
  {
   "cell_type": "code",
   "execution_count": null,
   "metadata": {
    "collapsed": false
   },
   "outputs": [],
   "source": [
    "for i in range(20):\n",
    "    x = rand.random()\n",
    "    y = rand.random()\n",
    "    print(\"(\" + str(x) + \", \" + str(y) + \")\")"
   ]
  },
  {
   "cell_type": "markdown",
   "metadata": {},
   "source": [
    "One can also input random numbers into a function:"
   ]
  },
  {
   "cell_type": "code",
   "execution_count": null,
   "metadata": {
    "collapsed": false
   },
   "outputs": [],
   "source": [
    "def parab(x):\n",
    "    return x**2 - 4*x + 3\n",
    "\n",
    "for i in range(20):\n",
    "    input_x = rand.random()\n",
    "    parab_value = parab(input_x)\n",
    "    print(parab_value)"
   ]
  },
  {
   "cell_type": "markdown",
   "metadata": {},
   "source": [
    "These tools may all seem pretty weak, but they are the kernels of some quite powerful techniques.  Physicists use the same fundamental processes to do things like study the performance of nuclear reactors, model galaxies, and simulate protein folding.  Generating random numbers is quite useful in studying quantum mechanics, too!  As you know, quantum processes are non-deterministic; the outcome of a measurement is randomly selected according to the probability density function, the absolute square of the wavefunction.  Computing has arguably allowed us to learn much about QM that we otherwise wouldn't have.\n",
    "\n",
    "Random floats (remember what those are) are cool, but there are some systems that exhibit discrete behavior.  For example, if I wanted to write a random number generator to simulate you randomly choosing a card from a deck, I wouldn't want the outcome to be that you chose the 31.467459267th card.  That doesn't make sense.\n",
    "\n",
    "The random module has tools for generating random integers:"
   ]
  },
  {
   "cell_type": "code",
   "execution_count": null,
   "metadata": {
    "collapsed": false
   },
   "outputs": [],
   "source": [
    "rand.randint(1,100)"
   ]
  },
  {
   "cell_type": "markdown",
   "metadata": {},
   "source": [
    "The above line generates a random integer between 1 and 100.  This is useful for many types of real-life decisions:\n",
    "\n",
    "Hey, python, how many kids whould I have:"
   ]
  },
  {
   "cell_type": "code",
   "execution_count": null,
   "metadata": {
    "collapsed": false
   },
   "outputs": [],
   "source": [
    "rand.randint(1,100)"
   ]
  },
  {
   "cell_type": "markdown",
   "metadata": {},
   "source": [
    "Ummmmmmm, no.\n",
    "\n",
    "Hey, python, how many tacos should I eat tonight?"
   ]
  },
  {
   "cell_type": "code",
   "execution_count": null,
   "metadata": {
    "collapsed": false
   },
   "outputs": [],
   "source": [
    "rand.randint(1,100)"
   ]
  },
  {
   "cell_type": "markdown",
   "metadata": {},
   "source": [
    "Sage advice.  Now you're talking.\n",
    "\n",
    "There are lots of other things that one can do with random numbers, but it's probably best to become acquainted with the simple code and then learn more once you have a need.  Here are some problems to get you thinking:\n",
    "\n",
    "#### Problem 1:\n",
    "Generate 100 random integers between 100 and 1000."
   ]
  },
  {
   "cell_type": "code",
   "execution_count": null,
   "metadata": {
    "collapsed": true
   },
   "outputs": [],
   "source": [
    "# put your work for problem 1 in this cell!"
   ]
  },
  {
   "cell_type": "markdown",
   "metadata": {},
   "source": [
    "#### Problem 2:\n",
    "Generate 100 random integers between 0 and 40 or 60 and 100 (i.e., omit any numbers between 41 and 59).  You'll probably need an if statement.  Make sure there are 100!"
   ]
  },
  {
   "cell_type": "code",
   "execution_count": null,
   "metadata": {
    "collapsed": true
   },
   "outputs": [],
   "source": [
    "# put your work for problem 2 in this cell"
   ]
  },
  {
   "cell_type": "markdown",
   "metadata": {},
   "source": [
    "\n",
    "#### Problem 3:\n",
    "Generate 10000 random integers between -1 and 1.  DON'T print them to screen!  Count how many of these are less than zero and how many are greater than zero; print these counts to screen.  Run the code a few times and observe the behavior of these counts."
   ]
  },
  {
   "cell_type": "code",
   "execution_count": null,
   "metadata": {
    "collapsed": true
   },
   "outputs": [],
   "source": [
    "# put your work from problem 3 in this cell"
   ]
  },
  {
   "cell_type": "markdown",
   "metadata": {},
   "source": [
    "* * *\n",
    "\n",
    "### III) Lists\n",
    "\n",
    "In python, as in many programming languages, there is a way to store multiple items as a single object.  In python, these objects are called *lists*.  In some ways, you can think about a list as a set (if you know about sets), or as a vector (if you know about vectors), with elements that are indexed by a number.\n",
    "\n",
    "NB: In many other languages, similar objects are called *arrays*.  You instructor may accidentally call pyhton lists \"arrays\".  We'll encounter python arrays soon, and you'll see the differences.\n",
    "\n",
    "The most basic way to initialize a list is the following:"
   ]
  },
  {
   "cell_type": "code",
   "execution_count": null,
   "metadata": {
    "collapsed": true
   },
   "outputs": [],
   "source": [
    "primes_lt20 = [2, 3, 5, 7, 11, 13, 17, 19]"
   ]
  },
  {
   "cell_type": "markdown",
   "metadata": {},
   "source": [
    "Lists are a big deal in python, and the language offers many ways to work with and manipulate them.  First, we can access an individual element of a list by specifying its index:"
   ]
  },
  {
   "cell_type": "code",
   "execution_count": null,
   "metadata": {
    "collapsed": false
   },
   "outputs": [],
   "source": [
    "primes_lt20[4]"
   ]
  },
  {
   "cell_type": "markdown",
   "metadata": {},
   "source": [
    "This might look a little weird... after all, the 4th element of the list is 7 (7 is the 4th prime number).\n",
    "\n",
    "The reason that this returns the fifth element in the list is that python is a \"0-indexed language\", meaning that the indices of list elements begin with 0.  Congratulations, you now know why it's the second week of class, but you're only on lesson number 1.\n",
    "\n",
    "Check this:"
   ]
  },
  {
   "cell_type": "code",
   "execution_count": null,
   "metadata": {
    "collapsed": false
   },
   "outputs": [],
   "source": [
    "primes_lt20[0]"
   ]
  },
  {
   "cell_type": "markdown",
   "metadata": {},
   "source": [
    "OH *OKAY!*  This is one of those rules that is hard to internalize.  The indices just begin with 0 in python (and most other modern languages.\n",
    "\n",
    "We can check the length of the list:"
   ]
  },
  {
   "cell_type": "code",
   "execution_count": null,
   "metadata": {
    "collapsed": false
   },
   "outputs": [],
   "source": [
    "len(primes_lt20)"
   ]
  },
  {
   "cell_type": "markdown",
   "metadata": {},
   "source": [
    "There are also a bunch of things that we can do with the index notation:"
   ]
  },
  {
   "cell_type": "code",
   "execution_count": null,
   "metadata": {
    "collapsed": false
   },
   "outputs": [],
   "source": [
    "primes_lt20[0:3]"
   ]
  },
  {
   "cell_type": "markdown",
   "metadata": {},
   "source": [
    "The call above returns a new list that is a subset of the original list that takes the 3 elements beginning at element 0.\n",
    "\n",
    "You can also get the last element in the list by using the index -1:"
   ]
  },
  {
   "cell_type": "code",
   "execution_count": null,
   "metadata": {
    "collapsed": false
   },
   "outputs": [],
   "source": [
    "primes_lt20[-1]"
   ]
  },
  {
   "cell_type": "markdown",
   "metadata": {},
   "source": [
    "From here, you can get creative."
   ]
  },
  {
   "cell_type": "code",
   "execution_count": null,
   "metadata": {
    "collapsed": false
   },
   "outputs": [],
   "source": [
    "primes_lt20[-3]"
   ]
  },
  {
   "cell_type": "markdown",
   "metadata": {},
   "source": [
    "We can also add to (append, insert) or remove from (pop, remove) a list:"
   ]
  },
  {
   "cell_type": "code",
   "execution_count": null,
   "metadata": {
    "collapsed": false
   },
   "outputs": [],
   "source": [
    "primes_lt20.append(23)\n",
    "print(primes_lt20)"
   ]
  },
  {
   "cell_type": "code",
   "execution_count": null,
   "metadata": {
    "collapsed": false
   },
   "outputs": [],
   "source": [
    "primes_lt20.insert(3,301)\n",
    "primes_lt20"
   ]
  },
  {
   "cell_type": "code",
   "execution_count": null,
   "metadata": {
    "collapsed": false
   },
   "outputs": [],
   "source": [
    "primes_lt20.pop(3)\n",
    "primes_lt20"
   ]
  },
  {
   "cell_type": "code",
   "execution_count": null,
   "metadata": {
    "collapsed": false
   },
   "outputs": [],
   "source": [
    "primes_lt20.pop()\n",
    "primes_lt20"
   ]
  },
  {
   "cell_type": "code",
   "execution_count": null,
   "metadata": {
    "collapsed": false
   },
   "outputs": [],
   "source": [
    "primes_lt20.remove(11)\n",
    "primes_lt20"
   ]
  },
  {
   "cell_type": "markdown",
   "metadata": {},
   "source": [
    "That last one is a little funky.  remove(n) removes the first element in a list that matches n.\n",
    "\n",
    "Here is a structure that I use all the time.  Let's say that I have a list of random numbers, I may not know how many, and want to loop over these numbers and square them.  Please try to understand each of the lines below.  I should add that you can suppress the output of a command by putting a semicolon (;) at the end of the line."
   ]
  },
  {
   "cell_type": "code",
   "execution_count": null,
   "metadata": {
    "collapsed": false
   },
   "outputs": [],
   "source": [
    "def squarep1(x):\n",
    "    return x**2 + 1\n",
    "\n",
    "lis_1 = []    # we can initialize an empty list, and put things in it later\n",
    "for i in range(rand.randint(1,100)):\n",
    "    lis_1.append(rand.random())\n",
    "\n",
    "print(\"We have \" + str(len(lis_1)) + \" elements in our list.\\n\")\n",
    "\n",
    "for i in range(len(lis_1)):   # this works for lists of arbitrary length\n",
    "    num = lis_1[i]\n",
    "    print(i, lis_1[i], squarep1(lis_1[i]))"
   ]
  },
  {
   "cell_type": "markdown",
   "metadata": {},
   "source": [
    "The block above makes a list containing a random number of random numbers, and then \"runs over\" the elements in this list and applies the function squarep1 to each.\n",
    "\n",
    "For my last list trick, I'll show you that python knows how to do some simple operations with lists.  In some cases, the outcomes are obvious.  In other situations, python's interpretation of the syntax may be surprising:"
   ]
  },
  {
   "cell_type": "code",
   "execution_count": null,
   "metadata": {
    "collapsed": false
   },
   "outputs": [],
   "source": [
    "aL = [1, 6, 3, 7, 9, 2, 4, 6, 7]\n",
    "bL = [7, 8, 9, 0]\n",
    "\n",
    "aL + bL"
   ]
  },
  {
   "cell_type": "code",
   "execution_count": null,
   "metadata": {
    "collapsed": false
   },
   "outputs": [],
   "source": [
    "aL.sort()\n",
    "print(aL)"
   ]
  },
  {
   "cell_type": "markdown",
   "metadata": {},
   "source": [
    "* * *\n",
    "\n",
    "### IV) (Basic) Plotting\n",
    "\n",
    "As I mentioned above, many wonderful people have written many fabulous, YUUUUUGE modules for python.  \n",
    "Because python is used by so many wonderful folks in the natural and data sciences, many of these modules are designed to do *exactly* the types of things that we want to do in this class.\n",
    "\n",
    "One such module, matplotlib, is an enormously comprehensive suite for data visualization.  Let's check it out!  First, we need to import two (2!) modules: nuumpy (numerical python) and a submodule of matplotlib called pyplot.\n",
    "\n",
    "Most plotting in pyplot is based on numerical python arrays, which are like more-powerful lists."
   ]
  },
  {
   "cell_type": "code",
   "execution_count": null,
   "metadata": {
    "collapsed": false
   },
   "outputs": [],
   "source": [
    "import numpy as np\n",
    "import matplotlib.pyplot as plt\n",
    "\n",
    "xmin = -3.0\n",
    "xmax = 3.0\n",
    "dx = 0.1\n",
    "\n",
    "xlist = []\n",
    "ylist = []\n",
    "x_val = xmin\n",
    "while x_val <= xmax:\n",
    "    xlist.append(x_val)\n",
    "    ylist.append(np.tanh(x_val))\n",
    "    x_val += dx\n",
    "\n",
    "# now we must convert the lists into numpy arrays so that \n",
    "# matplotlist knows what to do with them\n",
    "\n",
    "xarray = np.array(xlist)\n",
    "yarray = np.array(ylist)\n",
    "\n",
    "#print(xarray)\n",
    "#print(yarray)\n",
    "\n",
    "plt.plot(xarray, yarray,'-')\n",
    "plt.xlim(xmin, xmax)\n",
    "plt.ylim(-1.1,1.1)\n",
    "plt.ylabel(\"tanh[x]\")\n",
    "plt.xlabel(\"x\")\n",
    "plt.show()"
   ]
  },
  {
   "cell_type": "markdown",
   "metadata": {
    "collapsed": true
   },
   "source": [
    "Hey, it's your old pal tanh(x)!\n",
    "\n",
    "So, that's how you make a simple plot!  The independent variable quantities are reprented by an numpy array (xarray) and the dependent variable quantities are represented by another numpy array (yarray).  The default formatting of the graph is pretty good looking, too!\n",
    "\n",
    "matplotlib has tons and tons and tons of really nice features.  I encourage you to check them out at http://matplotlib.org/examples/index.html\n",
    "\n",
    "I'd like to point out that the third argument of the plt.plot command is the marker properties.  \"-\" means that the points should be connected by a line.  This is rarely the way that we would display discrete points, but since we're generating them from a function, this is appropriate.  If we had a set of datapoints, we'd want to display the individual points:"
   ]
  },
  {
   "cell_type": "code",
   "execution_count": null,
   "metadata": {
    "collapsed": false
   },
   "outputs": [],
   "source": [
    "def trajectory(t):\n",
    "    return 0.5*(-9.8)*t**2 + 200.0*t + 120\n",
    "\n",
    "lis_ts = range(30)\n",
    "lis_heights = []\n",
    "for t in lis_ts:\n",
    "    error_factor = (1.0 + 0.1*(rand.random() - 0.5))\n",
    "    lis_heights.append(error_factor*trajectory(t))\n",
    "\n",
    "lis_ts = np.array(lis_ts)\n",
    "lis_heights = np.array(lis_heights)\n",
    "\n",
    "plt.plot(lis_ts, lis_heights,'ro')\n",
    "plt.ylabel(\"height (m)\")\n",
    "plt.xlabel(\"time (s)\")\n",
    "plt.show()"
   ]
  },
  {
   "cell_type": "markdown",
   "metadata": {},
   "source": [
    "Another type of plot that will be important for next week is a *histogram*.  For now, you can think of a histogram as what people who use Excel call a \"bar graph\".  A histogram shows the number of data that take values in each range of the independent variable.  These short ranges are called *bins*.  Let's generate a random data set and make a histogram:"
   ]
  },
  {
   "cell_type": "code",
   "execution_count": null,
   "metadata": {
    "collapsed": false
   },
   "outputs": [],
   "source": [
    "# this is a new function in the *numpy* random module that\n",
    "# generates an array of values from a normal distribution.\n",
    "# you should figure out what the three values mean here...\n",
    "rand_vals = 6.0*np.random.randn(10000) + 180.8\n",
    "    \n",
    "plt.hist(rand_vals, bins = 50)\n",
    "\n",
    "plt.xlabel(\"heights (cm)\")\n",
    "plt.ylabel(\"N\")\n",
    "\n",
    "plt.show()"
   ]
  },
  {
   "cell_type": "markdown",
   "metadata": {},
   "source": [
    "That code is very compact!  What the heck is it doing?  The np.random.randn(10000) call generates a list of 10000 random numbers generated from a normal distribution (a \"bell curve\").  The plt.hist call then takes this list (rand_vals) and makes a histogram.  Very, very compact, becasue these python functions were written specifically for problems like this.  If you want to get a better sense of what's going on, you can print out the various objects whenever you want.  *Por exemplo*:"
   ]
  },
  {
   "cell_type": "code",
   "execution_count": null,
   "metadata": {
    "collapsed": false
   },
   "outputs": [],
   "source": [
    "print(rand_vals)"
   ]
  },
  {
   "cell_type": "markdown",
   "metadata": {},
   "source": [
    "Python knows that this is going to be a kinda-big list, so it only shows you the first and last few values.\n",
    "\n",
    "**MatPlotLib** is a poweful module.  PLEASE take a few minutes to google it and look at some of the sophisticated and beautiful stuff that it can do.   : )\n",
    "\n",
    "*OK!*  That's a lot of stuff for one day, but you can try it out for yourself.\n",
    "\n",
    "#### Problem 4:\n",
    "Write a code block that generates 1000 random numbers between 0 and 1, and then histograms them.  "
   ]
  },
  {
   "cell_type": "code",
   "execution_count": null,
   "metadata": {
    "collapsed": true
   },
   "outputs": [],
   "source": []
  },
  {
   "cell_type": "markdown",
   "metadata": {},
   "source": [
    "#### Problem 5:\n",
    "Now do the same, but for 10^4, 10^5, and 10^6 random numbers.  Observe the \"jaggedness\" of the distribution."
   ]
  },
  {
   "cell_type": "code",
   "execution_count": null,
   "metadata": {
    "collapsed": true
   },
   "outputs": [],
   "source": []
  },
  {
   "cell_type": "markdown",
   "metadata": {},
   "source": [
    "### Well, that's it!\n",
    "Whew, that was a long one.  BUT!  You now have several very important tools for data science.  Next week, we'll get into some real large-scale data analysis with reading in data from file.  Once we learn how to do that, we'll simply re-apply the tools that we've used so far.\n",
    "\n",
    "### Good luck, humans.\n",
    "\n",
    "#### Sincerely,\n",
    "The Automator"
   ]
  },
  {
   "cell_type": "code",
   "execution_count": null,
   "metadata": {
    "collapsed": true
   },
   "outputs": [],
   "source": []
  }
 ],
 "metadata": {
  "kernelspec": {
   "display_name": "Python 3",
   "language": "python",
   "name": "python3"
  },
  "language_info": {
   "codemirror_mode": {
    "name": "ipython",
    "version": 3
   },
   "file_extension": ".py",
   "mimetype": "text/x-python",
   "name": "python",
   "nbconvert_exporter": "python",
   "pygments_lexer": "ipython3",
   "version": "3.6.0"
  }
 },
 "nbformat": 4,
 "nbformat_minor": 0
}
