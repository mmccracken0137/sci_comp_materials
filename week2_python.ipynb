{
 "cells": [
  {
   "cell_type": "markdown",
   "metadata": {},
   "source": [
    "## Welcome, earthling.  You've made it to to week 2."
   ]
  },
  {
   "cell_type": "markdown",
   "metadata": {},
   "source": [
    "### I) Recap and psych-up\n",
    "\n",
    "Last week was a BIG one!  You continued to hone your skills with loop and general syntax, but you also learned how to deal with lists/arrays, and how to plot data... or what fancy people call *data visualization*.  Woo woo.  All of these skills are going to be important going forward.  You'll keep getting better with them, so if you're still feeling usure DON'T PANIC.\n",
    "\n",
    "This week, you'll pick up one last skill: how to read in and write data to file.\n",
    "Most modern research fields depend on analyzing sets of data.  You may have done this earlier in your life with a spreadsheet program like Excel, and this is fine for some tasks.\n",
    "When datasets get LARGE or one is interested in more sophisticated or multi-dimensional analyses, Excel (or similar) ain't going to cut it. \n"
   ]
  },
  {
   "cell_type": "markdown",
   "metadata": {},
   "source": [
    "* * *\n",
    "\n",
    "### II) File I/O\n",
    "\n",
    "We've now seen that computers are better than humans at completing repetitive, tedious tasks.\n",
    "Computers are also better than humans at storing and retrieving data (the retrieval claim is debatable).  Once we've generated a large dataset, we want to store it in a file, and (hopefully) retreive that data for later analysis.  These activities are usually referred to as \"File Input/Output\" or \"File I/O\".\n",
    "\n",
    "##### Writing to file\n",
    "Writing to file is simple with python.  Check out this code:"
   ]
  },
  {
   "cell_type": "code",
   "execution_count": 1,
   "metadata": {
    "collapsed": true
   },
   "outputs": [],
   "source": [
    "outputfile = open(\"testfile.txt\",\"w\")\n",
    "statement = \"Hello, world!\"\n",
    "outputfile.write(statement)\n",
    "outputfile.close()"
   ]
  },
  {
   "cell_type": "markdown",
   "metadata": {},
   "source": [
    "The first line creates/opens a new file called \"testfile.txt\".  I've told python to open the file in write mode by specifying the \"w\", meaning that python can expect to only be putting info *into* it.  The second line writes the text \"Hello world!\" into the file.  The third line closes the file, i.e., tells python that we're done with it for now.  When you run this code, you should find that there's a new file \"testfile.txt\" in the same directory where this notebook file lives.  If not, you got problems; figure them out before proceeding.\n",
    "\n",
    "Even if it *did* work, do this problem:\n",
    "\n",
    "#### Problem 1:\n",
    "Write a snippet of code that creates a new file called \"tonz_of_numberz.txt\" and writes 100000 random numbers between 0 and 1 into it.  Each line of the file should have its own number.\n",
    "\n"
   ]
  },
  {
   "cell_type": "code",
   "execution_count": 2,
   "metadata": {
    "collapsed": true
   },
   "outputs": [],
   "source": [
    "# put your problem 1 code here"
   ]
  },
  {
   "cell_type": "markdown",
   "metadata": {},
   "source": [
    "##### Strings\n",
    "In the previous two weeks, we worked mostly with *numbers*. In the above snippet, however, we set the value of the variable statement to be something that definitely wasn't a number.  This is legal because in addition to float and int, python has another type of variable called a *string*.  A string is any... well, string of alpha-numeric characters.  Strings have different behaviors from ints and floats, but they are very useful for reading and writing to file.  In fact, when python writes anything (even a number) to file, if first converts it to a string.  When python reads anything (even something that is obviously [to you or me] a number) from file, it does so as a string.\n",
    "\n",
    "Here are some string manipulations:"
   ]
  },
  {
   "cell_type": "code",
   "execution_count": 1,
   "metadata": {
    "collapsed": false
   },
   "outputs": [
    {
     "name": "stdout",
     "output_type": "stream",
     "text": [
      "I have a housecat\n"
     ]
    }
   ],
   "source": [
    "str1 = \"house\"\n",
    "str2 = \"cat\"\n",
    "str3 = str1 + str2\n",
    "print(\"I have a \" + str3)"
   ]
  },
  {
   "cell_type": "markdown",
   "metadata": {},
   "source": [
    "Strings can be manipulated like this.  In general when we set the value of a variable to be anything in quotes, that variable type is a string.\n",
    "\n",
    "One must be careful when mixing strings and other types, though."
   ]
  },
  {
   "cell_type": "code",
   "execution_count": 2,
   "metadata": {
    "collapsed": false
   },
   "outputs": [
    {
     "ename": "TypeError",
     "evalue": "must be str, not int",
     "output_type": "error",
     "traceback": [
      "\u001b[0;31m---------------------------------------------------------------------------\u001b[0m",
      "\u001b[0;31mTypeError\u001b[0m                                 Traceback (most recent call last)",
      "\u001b[0;32m<ipython-input-2-f427b0ef2483>\u001b[0m in \u001b[0;36m<module>\u001b[0;34m()\u001b[0m\n\u001b[1;32m      2\u001b[0m \u001b[0msentence1\u001b[0m \u001b[0;34m=\u001b[0m \u001b[0;34m\"I have \"\u001b[0m\u001b[0;34m\u001b[0m\u001b[0m\n\u001b[1;32m      3\u001b[0m \u001b[0msentence2\u001b[0m \u001b[0;34m=\u001b[0m \u001b[0;34m\" housecats.\"\u001b[0m\u001b[0;34m\u001b[0m\u001b[0m\n\u001b[0;32m----> 4\u001b[0;31m \u001b[0mprint\u001b[0m\u001b[0;34m(\u001b[0m\u001b[0msentence1\u001b[0m \u001b[0;34m+\u001b[0m \u001b[0mnumber_of_cats\u001b[0m \u001b[0;34m+\u001b[0m \u001b[0msentence2\u001b[0m\u001b[0;34m)\u001b[0m\u001b[0;34m\u001b[0m\u001b[0m\n\u001b[0m",
      "\u001b[0;31mTypeError\u001b[0m: must be str, not int"
     ]
    }
   ],
   "source": [
    "number_of_cats = 904\n",
    "sentence1 = \"I have \"\n",
    "sentence2 = \" housecats.\"\n",
    "print(sentence1 + number_of_cats + sentence2)"
   ]
  },
  {
   "cell_type": "markdown",
   "metadata": {},
   "source": [
    "Oops!  Python doesn't quite know how to combine strings and ints in this case.  I have to be a bit more specific/careful and convert my int to a string:"
   ]
  },
  {
   "cell_type": "code",
   "execution_count": 3,
   "metadata": {
    "collapsed": false
   },
   "outputs": [
    {
     "name": "stdout",
     "output_type": "stream",
     "text": [
      "I have 904 housecats.\n"
     ]
    }
   ],
   "source": [
    "print(sentence1 + str(number_of_cats) + sentence2)"
   ]
  },
  {
   "cell_type": "markdown",
   "metadata": {},
   "source": [
    "See what I did there?  Doing something like \"str(41.25)\" converts the number into a string that can then be written or printed or read.  Notice that python only needs us to do this when we're blending strings and other types.\n",
    "\n",
    "There are lots of fun things that one can do with strings.  Here are some examples for you to decipher."
   ]
  },
  {
   "cell_type": "code",
   "execution_count": 4,
   "metadata": {
    "collapsed": false
   },
   "outputs": [
    {
     "name": "stdout",
     "output_type": "stream",
     "text": [
      "43185726\n",
      "False\n",
      "True\n",
      "4\n",
      "8\n",
      "2\n",
      "1857\n"
     ]
    }
   ],
   "source": [
    "number = 43185726\n",
    "string1 = str(number)\n",
    "print(string1)\n",
    "print(string1.isalpha())\n",
    "print(string1.isdigit())\n",
    "print(string1[0])\n",
    "print(string1[3])\n",
    "print(string1[-2])\n",
    "print(string1[2:6])"
   ]
  },
  {
   "cell_type": "markdown",
   "metadata": {},
   "source": [
    "The last few lines show how to access individual characters of a string.  (If you remember working with lists/arrays, you might think of strings as lists of individual characters.)  \n",
    "\n",
    "\"string1[3]\" returns the (zero, one, two) third character in the string.  This can be quite useful."
   ]
  },
  {
   "cell_type": "markdown",
   "metadata": {},
   "source": [
    "##### Reading from file\n",
    "\n",
    "Now that you can make files and write to them, you want to re-access that delicious stored information.  How to do this?  Simple!  Let's see what's in that old testfile.txt..."
   ]
  },
  {
   "cell_type": "code",
   "execution_count": 2,
   "metadata": {
    "collapsed": false
   },
   "outputs": [
    {
     "name": "stdout",
     "output_type": "stream",
     "text": [
      "Hello, world!\n"
     ]
    }
   ],
   "source": [
    "inputfile = open(\"testfile.txt\",\"r\")\n",
    "line = inputfile.readline()\n",
    "print(line)\n",
    "inputfile.close()"
   ]
  },
  {
   "cell_type": "markdown",
   "metadata": {},
   "source": [
    "Note the symmetry with the above write example.  You probably could have guessed how to do this just by knowing the write syntax and knowing the verbs \"read\" and \"write.\" \n"
   ]
  },
  {
   "cell_type": "markdown",
   "metadata": {},
   "source": [
    "Okay!  Here are some problems to get you cooking:\n",
    "* * *\n",
    "#### Problem 2:\n",
    "Read in all of the numbers in the file tonz_of_numberz.txt (you made that, right?) and count how many are greater than 0.75."
   ]
  },
  {
   "cell_type": "code",
   "execution_count": 3,
   "metadata": {
    "collapsed": true
   },
   "outputs": [],
   "source": [
    "# put your problem 2 code here"
   ]
  },
  {
   "cell_type": "markdown",
   "metadata": {
    "collapsed": true
   },
   "source": [
    "#### Problem 3: \n",
    "Read in all of the numbers in the file tonz_of_numberz.txt and count the number that have a '3' in their thenths place.  Can you justify the count?\n"
   ]
  },
  {
   "cell_type": "code",
   "execution_count": 4,
   "metadata": {
    "collapsed": true
   },
   "outputs": [],
   "source": [
    "# put your problem 3 code here"
   ]
  },
  {
   "cell_type": "markdown",
   "metadata": {},
   "source": [
    "\n",
    "#### Problem 4:\n",
    "Read in all of the numbers in the file tonz_of_numberz.txt and count the number that have the numeral '3' anywhere in them.  Can you justify the count?"
   ]
  },
  {
   "cell_type": "code",
   "execution_count": 5,
   "metadata": {
    "collapsed": true
   },
   "outputs": [],
   "source": [
    "# put your problem 4 code here"
   ]
  },
  {
   "cell_type": "markdown",
   "metadata": {},
   "source": [
    "#### Problem 5:\n",
    "Read in all of the numbers in the file tonz_of_numberz.txt and check to see how many of them begin with '0.1234'.  Can you justify the count?"
   ]
  },
  {
   "cell_type": "code",
   "execution_count": 6,
   "metadata": {
    "collapsed": true
   },
   "outputs": [],
   "source": [
    "# put your problem 5 code here"
   ]
  },
  {
   "cell_type": "markdown",
   "metadata": {},
   "source": [
    "****\n",
    "\n",
    "Often in the sciences we deal with large files that represent large datasets.  You can picture a spreadsheet (perhaps made in a spreadsheet software which shall not be named) in which information is organized in rows and columns.  Typically, we think of each row as being a single event, and each column representing the different features that characterize the events.\n",
    "\n",
    "In order to work with this data, you might use a graphical spreadsheet program.  What would you do, however, if your spreadsheet had data for tens of thousands of events (or more), each with multiple features?  Programs like Excel (there, I said it) can be quite cumbersome or even unworkable for big data.\n",
    "\n",
    "Programming allows us to read in data and perform calculations easily.  The following block of code reads in the data in the file parab_t_and_y.txt, and makes a plot of the second column's information (position) versus the first column's position.  The data are stored as two lists of numbers (one for t and one for x).  Python can only read in strings, so we'll split each line into two strings and then convert them to floats.  Make sure that you understad each line of the code below before proceeding.\n",
    "\n",
    "Be sure to download the data file and put it in the same directory as this notebook!"
   ]
  },
  {
   "cell_type": "code",
   "execution_count": 7,
   "metadata": {
    "collapsed": false
   },
   "outputs": [
    {
     "data": {
      "image/png": "[encoded data removed]",
      "text/plain": [
       "<matplotlib.figure.Figure at 0x112bf8940>"
      ]
     },
     "metadata": {},
     "output_type": "display_data"
    }
   ],
   "source": [
    "import numpy as np\n",
    "import matplotlib.pyplot as plt\n",
    "\n",
    "in_file = open(\"parab_t_and_y.txt\", \"r\")\n",
    "t_list = []\n",
    "y_list = []\n",
    "line = in_file.readline()        # read in the first line\n",
    "while len(line) > 1:             # keep doing loop until there's no more data in the file\n",
    "    line_list = line.split(\",\")  # split the string at each comma\n",
    "    t = float(line_list[0])      # convert time string to a float\n",
    "    y = float(line_list[1])      # convert position string to a float\n",
    "    t_list.append(t)       \n",
    "    y_list.append(y)\n",
    "    line = in_file.readline()\n",
    "    \n",
    "t_arr = np.array(t_list)\n",
    "y_arr = np.array(y_list)\n",
    "\n",
    "plt.plot(t_arr, y_arr, 'o')\n",
    "plt.xlabel('time (s)')\n",
    "plt.ylabel('y position (m)')\n",
    "plt.show()"
   ]
  },
  {
   "cell_type": "markdown",
   "metadata": {},
   "source": [
    "The data file that was read in above is a \"csv\" or comma-separated-value file.  This is very similar to the way that, say, Excel stores data, but we're able to access it directly.   : )\n",
    "\n",
    "Python offers some really elegant ways of dealing with strings, but the basic tools in the code block above are soooooo useful.  We'll return to them in a few weeks."
   ]
  },
  {
   "cell_type": "markdown",
   "metadata": {},
   "source": [
    "****\n",
    "### Well, that's it!\n",
    "That was a nice \"short\" one.  Yesssssss!  \n",
    "\n",
    "You now know almost all of the tools that you need to start doing real data science.  (In a few weeks, we'll talk about how to fit functions to data -- that's the last piece [for us, at least].)\n",
    "\n",
    "The work that you'll do over the next two weeks will encourage you to refine and become more confortable with these skills.  \n",
    "\n",
    "### Good luck, humans.\n",
    "\n",
    "#### Sincerely,\n",
    "The Automator\n"
   ]
  },
  {
   "cell_type": "code",
   "execution_count": null,
   "metadata": {
    "collapsed": true
   },
   "outputs": [],
   "source": []
  }
 ],
 "metadata": {
  "kernelspec": {
   "display_name": "Python 3",
   "language": "python",
   "name": "python3"
  },
  "language_info": {
   "codemirror_mode": {
    "name": "ipython",
    "version": 3
   },
   "file_extension": ".py",
   "mimetype": "text/x-python",
   "name": "python",
   "nbconvert_exporter": "python",
   "pygments_lexer": "ipython3",
   "version": "3.6.0"
  }
 },
 "nbformat": 4,
 "nbformat_minor": 0
}
