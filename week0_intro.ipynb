{
 "cells": [
  {
   "cell_type": "markdown",
   "metadata": {},
   "source": [
    "# Hello, earthling!  Welcome to week 0 of your Python tutorial!"
   ]
  },
  {
   "cell_type": "markdown",
   "metadata": {},
   "source": [
    "## I) INTRODUCTION\n",
    "\n",
    "In this portion of PHY 250L, we'll be investigating some of the basics of computer programming.  Now, you may ask yourself, \"Why?\"  I have a pretty good, two-fold answer for this...\n",
    "\n",
    "1) The study of physics (as a student) and pursuit of physics research are often characterized by doing long, difficult, or tedious calculations.  While much insight can be acheived by doing such things by hand (and we'll definitely make you do them by hand at some point), modern computation has allowed physicists (and mathematicians and scientists) to do things that they previously thought impossibly or prohibitively time-consuming.  [There are entire fields of physics that are possible *only* with the use of computers. (See Lattice Gauge Theory, Computational Biophysics, Genomics/Bioinformatics, etc.).]\n",
    "\n",
    "2) Physics experiments are often expensive... REALLY expensive.  [E.g., the Large Hadron Collider at CERN cost more than 13 gigadollars!]  Physics experiments often take a long time to build and perform.  [E.g., planning for the next generation of high-energy accelerators began over twenty years ago and the experiments wouldn't be built (if at all) for another 20 years.]  Before investing massive amounts of capital and effort (and enegy!), scientists rely on simulations of their experiments to suggest whether they are feasible and will give the desired precision or scope.  This is hard, but it's a heck of a lot cheaper (and more responsible) than dropping gigadollars on a project that *might not* work.\n",
    "\n",
    "As such, programming is a vital part of almost all fields of scholarly scientific research and industry. \n",
    "\n",
    "Here's a motivational example: John A. Swanson, W&J's cool-guy benefactor, made his fortune by developing a computational suite (ANSYS) that allows designers to, among many other things, test structural properties of materials and components before they are physically prototyped.  ANSYS was a gamechanger in the world of engineering and industrial design.  Maybe you'll make something similar!\n",
    "\n",
    "Because it is essential to modern research and industry, we have built several stages of computing education into the Physics Major.  In this course, you'll study the basics using Python (a general-purpose language) and MATLAB (more later).  If you continue on to take PHY 322 and 350, you'll study LabView and MultiSim, which are languages/suites that are designed (mostly) for instrument interfacing and electrical component simulation, respectively.  That's a LOT!  Hopefully you'll gain an appreciation of what computers can do and how they're used by the pros.  There is an undercurrent that unifies all of these languages; keep an eye out for that, too!"
   ]
  },
  {
   "cell_type": "markdown",
   "metadata": {},
   "source": [
    "\n",
    "## II) PYTHON\n",
    "\n",
    "Python, or more commonly \"python,\" is a general-purpose, object-oriented, interpreted programming language that has several benefits relevant to this course:\n",
    "\n",
    "a) It is F R E E.  You can/should put it on your personal computer.  If you are interested in doing so, get the Anaconda distribution that is maintained by Continuum.  Check out the downloads here: www.anaconda.com/download\n",
    "\n",
    "b) python is (relatively) simple to learn.  Most of the syntax is intuitive (once you learn a little bit about it).\n",
    "\n",
    "c) It's ubiquitous!  python is platform-independent (will work on almost any OS).  Even though it's simple, many people use python to do meaningful programming (the CMS experiment at CERN is pretty dang committed to python; that's a good indicator that it's here to stay).  As such, it is VERY well documented...\n",
    "\n",
    "d) Documentation/support network.  Many smart people use python, and the on-line community is excellent.  The answer to most of your python questions is just a Google/Yahoo/AltaVista/AskJeeves away.  (Similar to LaTeX!)\n",
    "\n",
    "e) It has this nifty ipython-notebook/Jupyter-notebook thing.  More on that later..."
   ]
  },
  {
   "cell_type": "markdown",
   "metadata": {},
   "source": [
    "## III) *THE* PROBLEM \n",
    "\n",
    "One of the difficulties that students sometimes have with learning programming what I call the \"WHAT THE H%&! GOING ON PROBLEM\" (TM).  If you're new to programming and to using a computer in a meaningful way, it's difficult to form a conceptual model of what is happening where.  Here is all you need to know:\n",
    "\n",
    "What is computer programming?\n",
    "Computer programming is the name given to the process of writing *programs* (\"code\") that tell a computer what to do.  Programs are written in a *language* (python is a language) and interpreted by the computer to manipulate the computer's hardware.  Learning how to program is a two-tiered process: you need to learn what types of things a computer can be told to do, and you need to learn the language (\"syntax\" in a given programming language) that allows you instruct the computer.\n",
    "\n",
    "That's it!  (NOT REALLY.)  If you keep this in mind, however, you can't get lost.  (Well, NOT REALLY.)  But, it's a pretty good mantra.  I'M TELLING THE COMPUTER WHAT TO DO I'M TELLING THE COMPUTER WHAT TO DO I'M TELLING THE COMPUTER WHAT TO DO I'M TELLING THE COMPUTER WHAT TO DO I'M TELLING THE COMPUTER WHAT TO DO I'M TELLING THE COMPUTER WHAT TO DO I'M TELLING THE COMPUTER WHAT TO DO ..."
   ]
  },
  {
   "cell_type": "markdown",
   "metadata": {},
   "source": [
    "## IV) JUPYTER NOTEBOOK\n",
    "\n",
    "For this first week, you'll be working partly in this integrated development environment inside of a browser.  This is called a Jupyter notebook.  This isn't the way that real programs are written, but this will serve as a nice sandbox in which we can play and in which I can interleave comments and instructions.  There are (at least) two types of \"cells\" here.\n",
    "\n",
    "a) Markdown cells (like this one) are just text that is intended to be read.  [OMG YOU'RE DOING THAT RIGHT NOW.]\n",
    "    \n",
    "b) Code cells are python code that gets executed.  Code cells are usually followed by output cells.\n",
    "    \n",
    "When you want to execute a cell, you place the cursor in the cell and hit [SHIFT + ENTER].\n",
    "\n",
    "Again, this might look a bit Mickey-Mouse-y, but it works well for getting up to speed.  I assure that in a few weeks you'll be doing some rad stuff.\n",
    "\n",
    "An IMPORTANT thing to know is that even though you are writing and running these programs in your browser, they are manipulating the hardware of your computer.  The browser only acts as a canvas here; no networking is happening.\n",
    "\n",
    "Python is an example of a \"high-level\" language, meaning that the instructions and syntax that you will type are easy to read and interpret by humans.  The python knows how to interpret these commands into instructions for the computer's hardware.  There are other languages that are \"closer to the metal\", but python will be better for learning the basics of what a program is and does.\n",
    "\n",
    "***\n"
   ]
  },
  {
   "cell_type": "markdown",
   "metadata": {},
   "source": [
    "\n",
    "## V) Let's get STARTED\n",
    "\n",
    "A not completely terrible way to get started with programming is to learn a couple of basic syntactical structures and then solve some problems.  This is the approach that we'll use.  If you're confused/lost/perturbed/desparate, IT'S NOT YOU.  Please ask a question.  Syntax can be tough to learn, but you have to exercise to get stronger.\n",
    "\n",
    "LET'S DO IT!"
   ]
  },
  {
   "cell_type": "markdown",
   "metadata": {},
   "source": [
    "Okay, more markdown here.  \n",
    "\n",
    "First up, let's do some simple calculations.  Execute each of the following cells by placing your cursor in the cell and pressing [SHIFT+ENTER].  (Let's call that a \"SHENTER\" from now on.)  You can modify any of these cells at any time!"
   ]
  },
  {
   "cell_type": "code",
   "execution_count": 1,
   "metadata": {
    "collapsed": false
   },
   "outputs": [
    {
     "data": {
      "text/plain": [
       "4"
      ]
     },
     "execution_count": 1,
     "metadata": {},
     "output_type": "execute_result"
    }
   ],
   "source": [
    "2 + 2"
   ]
  },
  {
   "cell_type": "code",
   "execution_count": 2,
   "metadata": {
    "collapsed": false
   },
   "outputs": [
    {
     "data": {
      "text/plain": [
       "6"
      ]
     },
     "execution_count": 2,
     "metadata": {},
     "output_type": "execute_result"
    }
   ],
   "source": [
    "3 * 2"
   ]
  },
  {
   "cell_type": "code",
   "execution_count": 3,
   "metadata": {
    "collapsed": false
   },
   "outputs": [
    {
     "data": {
      "text/plain": [
       "5000.0"
      ]
     },
     "execution_count": 3,
     "metadata": {},
     "output_type": "execute_result"
    }
   ],
   "source": [
    "3*4*1*4*5*6/2/6/8/3*10*100"
   ]
  },
  {
   "cell_type": "code",
   "execution_count": 4,
   "metadata": {
    "collapsed": false
   },
   "outputs": [
    {
     "data": {
      "text/plain": [
       "8"
      ]
     },
     "execution_count": 4,
     "metadata": {},
     "output_type": "execute_result"
    }
   ],
   "source": [
    "2^10"
   ]
  },
  {
   "cell_type": "markdown",
   "metadata": {},
   "source": [
    "WHAT???"
   ]
  },
  {
   "cell_type": "code",
   "execution_count": 5,
   "metadata": {
    "collapsed": false
   },
   "outputs": [
    {
     "data": {
      "text/plain": [
       "1024"
      ]
     },
     "execution_count": 5,
     "metadata": {},
     "output_type": "execute_result"
    }
   ],
   "source": [
    "2**10"
   ]
  },
  {
   "cell_type": "markdown",
   "metadata": {},
   "source": [
    "Oh, okay.  So it looks like the operator for \"raise to the power\" is two asterisks, not a caret!  We can deal with that.  I don't know what caret does... can you figure it out?"
   ]
  },
  {
   "cell_type": "code",
   "execution_count": 6,
   "metadata": {
    "collapsed": false
   },
   "outputs": [
    {
     "data": {
      "text/plain": [
       "0.4"
      ]
     },
     "execution_count": 6,
     "metadata": {},
     "output_type": "execute_result"
    }
   ],
   "source": [
    "2/5"
   ]
  },
  {
   "cell_type": "code",
   "execution_count": 7,
   "metadata": {
    "collapsed": false
   },
   "outputs": [
    {
     "data": {
      "text/plain": [
       "2.2580645161290325"
      ]
     },
     "execution_count": 7,
     "metadata": {},
     "output_type": "execute_result"
    }
   ],
   "source": [
    "70/31"
   ]
  },
  {
   "cell_type": "markdown",
   "metadata": {},
   "source": [
    "If you're using python version 3, this should have worked as expected.  If, on the other hand, you are using python version 2, the above computations gave incorrect answers.  Here are some more examples:"
   ]
  },
  {
   "cell_type": "code",
   "execution_count": 8,
   "metadata": {
    "collapsed": false
   },
   "outputs": [
    {
     "data": {
      "text/plain": [
       "0.4"
      ]
     },
     "execution_count": 8,
     "metadata": {},
     "output_type": "execute_result"
    }
   ],
   "source": [
    "2/5.0"
   ]
  },
  {
   "cell_type": "code",
   "execution_count": 9,
   "metadata": {
    "collapsed": false
   },
   "outputs": [
    {
     "data": {
      "text/plain": [
       "0.4"
      ]
     },
     "execution_count": 9,
     "metadata": {},
     "output_type": "execute_result"
    }
   ],
   "source": [
    "2.0/5"
   ]
  },
  {
   "cell_type": "code",
   "execution_count": 10,
   "metadata": {
    "collapsed": false
   },
   "outputs": [
    {
     "data": {
      "text/plain": [
       "2.2580645161290325"
      ]
     },
     "execution_count": 10,
     "metadata": {},
     "output_type": "execute_result"
    }
   ],
   "source": [
    "70/31.0"
   ]
  },
  {
   "cell_type": "markdown",
   "metadata": {},
   "source": [
    "Again, if using python 2, these should give some weird output.  This is the first example of what's called a *type*.  There are four different types of numbers in python: plain integers, long integers, floating point numbers, and complex numbers.  Each of these behaves slightly differently when operators are applied to them.\n",
    "\n",
    "So, in the case of 2/5, both 2 and 5 are integers.  python version 2 thinks that by writing them this way, you want to make sure that the outcome of the division is also an integer... so it lops off the decimal places.  That could cause lots of problems later on.  If you're using python3, this is not a problem.  If you must use python2, this is something that you need to keep track of.\n",
    "\n",
    "A safer way to operate is to make every number a floating point number, or *float*.  You can think of floats are the real numbers, of which integers are a subset.  This can be done by simply including a decial point for all numbers."
   ]
  },
  {
   "cell_type": "code",
   "execution_count": 11,
   "metadata": {
    "collapsed": false
   },
   "outputs": [
    {
     "data": {
      "text/plain": [
       "0.3333333333333333"
      ]
     },
     "execution_count": 11,
     "metadata": {},
     "output_type": "execute_result"
    }
   ],
   "source": [
    "2/6"
   ]
  },
  {
   "cell_type": "code",
   "execution_count": 12,
   "metadata": {
    "collapsed": false
   },
   "outputs": [
    {
     "data": {
      "text/plain": [
       "0.3333333333333333"
      ]
     },
     "execution_count": 12,
     "metadata": {},
     "output_type": "execute_result"
    }
   ],
   "source": [
    "2/6."
   ]
  },
  {
   "cell_type": "markdown",
   "metadata": {},
   "source": [
    "When python sees a decimal, it **knows** that you want the final result to be float, too.\n",
    "\n",
    "Okay, let's do some more."
   ]
  },
  {
   "cell_type": "code",
   "execution_count": 13,
   "metadata": {
    "collapsed": false
   },
   "outputs": [
    {
     "data": {
      "text/plain": [
       "5.385164807134504"
      ]
     },
     "execution_count": 13,
     "metadata": {},
     "output_type": "execute_result"
    }
   ],
   "source": [
    "29**0.5"
   ]
  },
  {
   "cell_type": "code",
   "execution_count": 14,
   "metadata": {
    "collapsed": false
   },
   "outputs": [
    {
     "data": {
      "text/plain": [
       "(5.385164807134504,\n",
       " 3.845556523418775,\n",
       " 2.7461192933624785,\n",
       " 1.961009057454548,\n",
       " 1.400360331291396)"
      ]
     },
     "execution_count": 14,
     "metadata": {},
     "output_type": "execute_result"
    }
   ],
   "source": [
    "29**(0.5),29**0.4,29**0.3,29**0.2,29**0.1"
   ]
  },
  {
   "cell_type": "code",
   "execution_count": 15,
   "metadata": {
    "collapsed": false
   },
   "outputs": [
    {
     "ename": "TypeError",
     "evalue": "unsupported operand type(s) for ^: 'int' and 'float'",
     "output_type": "error",
     "traceback": [
      "\u001b[0;31m---------------------------------------------------------------------------\u001b[0m",
      "\u001b[0;31mTypeError\u001b[0m                                 Traceback (most recent call last)",
      "\u001b[0;32m<ipython-input-15-517046928a9a>\u001b[0m in \u001b[0;36m<module>\u001b[0;34m()\u001b[0m\n\u001b[0;32m----> 1\u001b[0;31m \u001b[0;36m29\u001b[0m\u001b[0;34m^\u001b[0m\u001b[0;36m0.5\u001b[0m\u001b[0;34m\u001b[0m\u001b[0m\n\u001b[0m",
      "\u001b[0;31mTypeError\u001b[0m: unsupported operand type(s) for ^: 'int' and 'float'"
     ]
    }
   ],
   "source": [
    "29^0.5"
   ]
  },
  {
   "cell_type": "markdown",
   "metadata": {},
   "source": [
    "OH CRAP.  What happened?\n",
    "\n",
    "This is the first example of what's called a run-time error.  Something about the code that we wrote above didn't work with how phython knows how to interpret instructions.  In this case, the error that python threw (TypeError: unsupported operand type(s) for ^: 'int' and 'float') is pretty instructive (usually the case for python).  It seems like \"^\" is not a recognized operator for floats.  Here are some similar problems you may encounter:"
   ]
  },
  {
   "cell_type": "code",
   "execution_count": 16,
   "metadata": {
    "collapsed": false
   },
   "outputs": [
    {
     "ename": "SyntaxError",
     "evalue": "unexpected EOF while parsing (<ipython-input-16-d7cbb65aa084>, line 1)",
     "output_type": "error",
     "traceback": [
      "\u001b[0;36m  File \u001b[0;32m\"<ipython-input-16-d7cbb65aa084>\"\u001b[0;36m, line \u001b[0;32m1\u001b[0m\n\u001b[0;31m    (29\u001b[0m\n\u001b[0m       ^\u001b[0m\n\u001b[0;31mSyntaxError\u001b[0m\u001b[0;31m:\u001b[0m unexpected EOF while parsing\n"
     ]
    }
   ],
   "source": [
    "(29"
   ]
  },
  {
   "cell_type": "code",
   "execution_count": null,
   "metadata": {
    "collapsed": false
   },
   "outputs": [],
   "source": [
    "4.1.6"
   ]
  },
  {
   "cell_type": "code",
   "execution_count": null,
   "metadata": {
    "collapsed": false
   },
   "outputs": [],
   "source": [
    "23+"
   ]
  },
  {
   "cell_type": "markdown",
   "metadata": {},
   "source": [
    "Whoops!  python will usually yell at you when you do something stupid.  The really insidious errors are those that cause code to run but produce incorrect behavior.  They are harder to diagnose and fix.\n",
    "\n",
    "* * * \n",
    "## VI) Variables\n",
    "\n",
    "So, the next step in complexity is to declare variables and use them for calculations.  Variables are quite interesting in python for quite complicated reasons.  The following statement declares the variable \"a\" and sets its value to 2.0e-9:"
   ]
  },
  {
   "cell_type": "code",
   "execution_count": null,
   "metadata": {
    "collapsed": true
   },
   "outputs": [],
   "source": [
    "a = 2.0*10**-9"
   ]
  },
  {
   "cell_type": "markdown",
   "metadata": {},
   "source": [
    "Note that no output is displayed here.  python did do something, viz. it set aside some space in memory for \"a\" and then put the value 2.0e-9 there.\n",
    "\n",
    "Let's check the value of a:"
   ]
  },
  {
   "cell_type": "code",
   "execution_count": null,
   "metadata": {
    "collapsed": false
   },
   "outputs": [],
   "source": [
    "print(a)"
   ]
  },
  {
   "cell_type": "markdown",
   "metadata": {},
   "source": [
    "Cool.  Looks good.\n",
    "\n",
    "\n",
    "We can now do calculations with some variables:"
   ]
  },
  {
   "cell_type": "code",
   "execution_count": null,
   "metadata": {
    "collapsed": true
   },
   "outputs": [],
   "source": [
    "m = 9.109e-31"
   ]
  },
  {
   "cell_type": "code",
   "execution_count": null,
   "metadata": {
    "collapsed": true
   },
   "outputs": [],
   "source": [
    "pi = 3.1416"
   ]
  },
  {
   "cell_type": "code",
   "execution_count": null,
   "metadata": {
    "collapsed": true
   },
   "outputs": [],
   "source": [
    "hbar = 1.054e-34"
   ]
  },
  {
   "cell_type": "code",
   "execution_count": null,
   "metadata": {
    "collapsed": true
   },
   "outputs": [],
   "source": [
    "echarge = 1.602e-19"
   ]
  },
  {
   "cell_type": "code",
   "execution_count": null,
   "metadata": {
    "collapsed": true
   },
   "outputs": [],
   "source": [
    "eps0 = 8.854e-12"
   ]
  },
  {
   "cell_type": "code",
   "execution_count": null,
   "metadata": {
    "collapsed": false
   },
   "outputs": [],
   "source": [
    "bohr_radius = 4 * pi * eps0 * hbar**2 / (m * echarge**2)"
   ]
  },
  {
   "cell_type": "code",
   "execution_count": null,
   "metadata": {
    "collapsed": false
   },
   "outputs": [],
   "source": [
    "print(bohr_radius)"
   ]
  },
  {
   "cell_type": "markdown",
   "metadata": {},
   "source": [
    "Yusssss.  We did it!  Storing the values of the physical constants, we were able to calculate the Bohr radius.\n",
    "\n",
    "This isn't all THAT impressive, but now that we've stored these values in variables, we can use them again:"
   ]
  },
  {
   "cell_type": "code",
   "execution_count": null,
   "metadata": {
    "collapsed": false
   },
   "outputs": [],
   "source": [
    "energy_groundstate = -1.0 * m * echarge**4 / (2 * (4 * pi * eps0)**2 * hbar**2)"
   ]
  },
  {
   "cell_type": "code",
   "execution_count": null,
   "metadata": {
    "collapsed": false
   },
   "outputs": [],
   "source": [
    "print(energy_groundstate)"
   ]
  },
  {
   "cell_type": "markdown",
   "metadata": {},
   "source": [
    "Hmmmm.  That looks wrong!  Oh, wait, we have to convert from Joules to eV..."
   ]
  },
  {
   "cell_type": "code",
   "execution_count": null,
   "metadata": {
    "collapsed": true
   },
   "outputs": [],
   "source": [
    "energy_groundstate = energy_groundstate / echarge"
   ]
  },
  {
   "cell_type": "code",
   "execution_count": 17,
   "metadata": {
    "collapsed": false
   },
   "outputs": [
    {
     "ename": "NameError",
     "evalue": "name 'energy_groundstate' is not defined",
     "output_type": "error",
     "traceback": [
      "\u001b[0;31m---------------------------------------------------------------------------\u001b[0m",
      "\u001b[0;31mNameError\u001b[0m                                 Traceback (most recent call last)",
      "\u001b[0;32m<ipython-input-17-6fb9b763a6fb>\u001b[0m in \u001b[0;36m<module>\u001b[0;34m()\u001b[0m\n\u001b[0;32m----> 1\u001b[0;31m \u001b[0mprint\u001b[0m\u001b[0;34m(\u001b[0m\u001b[0menergy_groundstate\u001b[0m\u001b[0;34m)\u001b[0m\u001b[0;34m\u001b[0m\u001b[0m\n\u001b[0m",
      "\u001b[0;31mNameError\u001b[0m: name 'energy_groundstate' is not defined"
     ]
    }
   ],
   "source": [
    "print(energy_groundstate)"
   ]
  },
  {
   "cell_type": "markdown",
   "metadata": {},
   "source": [
    "WOOP WOOP.\n",
    "\n",
    "Make sure you take a good long look at the code two lines above and understand what's happening.  Thist type of syntax is going to become super important for our later work.\n",
    "\n",
    "Okay, act cool.  I know that we're all really excited right now.  \n",
    "\n",
    "## Caveat:\n",
    "Once a variable is declared, it exists for the rest of a program (unless it's inside a loop; more on that later).  So, you don't want to reuse variable names unless you have a really good reason for doing so.\n",
    "\n",
    "***\n",
    "\n",
    "## VII) Function definitions\n",
    "\n",
    "Wouldn't it be \"cool\" to be able to use these variables more efficiently?  One can do so by declaring functions.  I'm going to write a function that calculates the energy of the nth state of the hydrogen atom using the variables that we declared above:"
   ]
  },
  {
   "cell_type": "code",
   "execution_count": null,
   "metadata": {
    "collapsed": true
   },
   "outputs": [],
   "source": [
    "def hydro_energy(n):\n",
    "    factor1 = -1.0 * m * echarge**4\n",
    "    factor2 = (2 * (4 * pi * eps0)**2 * hbar**2)\n",
    "    conversion = 1 / echarge\n",
    "    return ((factor1 / factor2) / n**2) / echarge"
   ]
  },
  {
   "cell_type": "markdown",
   "metadata": {},
   "source": [
    "NB: the meat of the function definition is indented to the right.  Indentation is very important in python, and one must take care to do it properly.\n",
    "\n",
    "Now we can use this function as many times as we want!"
   ]
  },
  {
   "cell_type": "code",
   "execution_count": null,
   "metadata": {
    "collapsed": false
   },
   "outputs": [],
   "source": [
    "print(hydro_energy(1))"
   ]
  },
  {
   "cell_type": "code",
   "execution_count": 18,
   "metadata": {
    "collapsed": false
   },
   "outputs": [
    {
     "ename": "NameError",
     "evalue": "name 'hydro_energy' is not defined",
     "output_type": "error",
     "traceback": [
      "\u001b[0;31m---------------------------------------------------------------------------\u001b[0m",
      "\u001b[0;31mNameError\u001b[0m                                 Traceback (most recent call last)",
      "\u001b[0;32m<ipython-input-18-17cf25b5952a>\u001b[0m in \u001b[0;36m<module>\u001b[0;34m()\u001b[0m\n\u001b[0;32m----> 1\u001b[0;31m \u001b[0mprint\u001b[0m\u001b[0;34m(\u001b[0m\u001b[0mhydro_energy\u001b[0m\u001b[0;34m(\u001b[0m\u001b[0;36m2\u001b[0m\u001b[0;34m)\u001b[0m\u001b[0;34m)\u001b[0m\u001b[0;34m\u001b[0m\u001b[0m\n\u001b[0m",
      "\u001b[0;31mNameError\u001b[0m: name 'hydro_energy' is not defined"
     ]
    }
   ],
   "source": [
    "print(hydro_energy(2))"
   ]
  },
  {
   "cell_type": "code",
   "execution_count": null,
   "metadata": {
    "collapsed": false
   },
   "outputs": [],
   "source": [
    "print(hydro_energy(27))"
   ]
  },
  {
   "cell_type": "markdown",
   "metadata": {},
   "source": [
    "Neat!  Now we cando all sorts of calculations.  Can you interpret the following?"
   ]
  },
  {
   "cell_type": "code",
   "execution_count": null,
   "metadata": {
    "collapsed": true
   },
   "outputs": [],
   "source": [
    "egam_3_2 = hydro_energy(3) - hydro_energy(2)"
   ]
  },
  {
   "cell_type": "code",
   "execution_count": null,
   "metadata": {
    "collapsed": false
   },
   "outputs": [],
   "source": [
    "print(egam_3_2)"
   ]
  },
  {
   "cell_type": "code",
   "execution_count": null,
   "metadata": {
    "collapsed": true
   },
   "outputs": [],
   "source": [
    "lamgam_3_2 = 1240/(egam_3_2)"
   ]
  },
  {
   "cell_type": "code",
   "execution_count": null,
   "metadata": {
    "collapsed": false
   },
   "outputs": [],
   "source": [
    "print(lamgam_3_2)"
   ]
  },
  {
   "cell_type": "markdown",
   "metadata": {},
   "source": [
    "***\n",
    "\n",
    "## VIII) Let's get LOOPy\n",
    "\n",
    "One of the things that computers are really, really useful for is mindless, repetitive tasks.  We can make computers do this (they aren't unionized) using *loops*.\n",
    "\n",
    "There are several ways to control loops, referred to as *control structures*.\n",
    "\n",
    "The first control structure is a **for** loop.  A for loop performs the task inside of the loop a fixed number of times.  The syntax for writing a for loop in python looks like this:"
   ]
  },
  {
   "cell_type": "code",
   "execution_count": null,
   "metadata": {
    "collapsed": false
   },
   "outputs": [],
   "source": [
    "for i in range(10):\n",
    "    print(i)"
   ]
  },
  {
   "cell_type": "markdown",
   "metadata": {},
   "source": [
    "Yes, I know.  It's very impressive that I taught this computer how to count to 9.  That's why I have a PhD.\n",
    "\n",
    "Note that there is a colon (\":\") and indendation in this syntax.  The colon works like it does in englush syntax:\n",
    "\n",
    "\"Hey, computer, do the following things: print 0, print 1, print 2, print 3, ...\"\n",
    "\n",
    "The indentation tells python what stuff happens \"inside\" the loop.  The first line that's not indented is not part of the loop.\n",
    "\n",
    "This looks really dumb, but it's a very useful structure if we add calculation to it.  For example, we can sum the numbers from 0 to 2015:"
   ]
  },
  {
   "cell_type": "code",
   "execution_count": null,
   "metadata": {
    "collapsed": false
   },
   "outputs": [],
   "source": [
    "sum = 0\n",
    "for i in range(2015):\n",
    "    sum = sum + i\n",
    "    \n",
    "print(sum)"
   ]
  },
  {
   "cell_type": "markdown",
   "metadata": {},
   "source": [
    "Or we can list some terms from a geometric series:"
   ]
  },
  {
   "cell_type": "code",
   "execution_count": 19,
   "metadata": {
    "collapsed": false
   },
   "outputs": [
    {
     "name": "stdout",
     "output_type": "stream",
     "text": [
      "0\n",
      "1\n",
      "8\n",
      "27\n",
      "64\n",
      "125\n",
      "216\n",
      "343\n",
      "512\n",
      "729\n",
      "1000\n",
      "1331\n",
      "1728\n",
      "2197\n",
      "2744\n",
      "3375\n",
      "4096\n",
      "4913\n",
      "5832\n",
      "6859\n"
     ]
    }
   ],
   "source": [
    "for i in range(20):\n",
    "    print(i**3)"
   ]
  },
  {
   "cell_type": "markdown",
   "metadata": {},
   "source": [
    "These aren't particularly enlightening problems, but they would be a total PITR without a computer.\n",
    "\n",
    "Here's another control structure, the **while** loop.  While loops keep doing the meat until a condition is no longer true.  We usually have to have some external stuff for a while loop to compare to:"
   ]
  },
  {
   "cell_type": "code",
   "execution_count": 20,
   "metadata": {
    "collapsed": false
   },
   "outputs": [
    {
     "name": "stdout",
     "output_type": "stream",
     "text": [
      "Mikey likes bikes\n",
      "Mikey likes bikes\n",
      "Mikey likes bikes\n",
      "Mikey likes bikes\n",
      "Mikey likes bikes\n",
      "Mikey likes bikes\n",
      "Mikey likes bikes\n",
      "Mikey likes bikes\n",
      "Mikey likes bikes\n",
      "Mikey likes bikes\n",
      "Mikey likes bikes\n",
      "Mikey likes bikes\n",
      "Mikey likes bikes\n",
      "Mikey likes bikes\n",
      "Mikey likes bikes\n",
      "Mikey likes bikes\n",
      "Mikey likes bikes\n",
      "Mikey likes bikes\n",
      "Mikey likes bikes\n",
      "Mikey likes bikes\n",
      "Mikey likes bikes\n",
      "Mikey likes bikes\n",
      "Mikey likes bikes\n",
      "Mikey likes bikes\n",
      "Mikey likes bikes\n",
      "Mikey likes bikes\n",
      "Mikey likes bikes\n",
      "Mikey likes bikes\n",
      "Mikey likes bikes\n",
      "Mikey likes bikes\n",
      "Mikey likes bikes\n",
      "Mikey likes bikes\n",
      "Mikey likes bikes\n",
      "Mikey likes bikes\n",
      "Mikey likes bikes\n",
      "Mikey likes bikes\n",
      "Mikey likes bikes\n",
      "Mikey likes bikes\n",
      "Mikey likes bikes\n",
      "Mikey likes bikes\n",
      "Mikey likes bikes\n",
      "Mikey likes bikes\n",
      "Mikey likes bikes\n",
      "Mikey likes bikes\n",
      "Mikey likes bikes\n",
      "Mikey likes bikes\n",
      "Mikey likes bikes\n",
      "Mikey likes bikes\n",
      "Mikey likes bikes\n",
      "Mikey likes bikes\n",
      "Mikey likes bikes\n",
      "Mikey likes bikes\n",
      "Mikey likes bikes\n",
      "Mikey likes bikes\n",
      "Mikey likes bikes\n",
      "Mikey likes bikes\n",
      "Mikey likes bikes\n",
      "Mikey likes bikes\n",
      "Mikey likes bikes\n",
      "Mikey likes bikes\n",
      "Mikey likes bikes\n",
      "Mikey likes bikes\n",
      "Mikey likes bikes\n",
      "Mikey likes bikes\n",
      "Mikey likes bikes\n",
      "Mikey likes bikes\n",
      "Mikey likes bikes\n",
      "Mikey likes bikes\n",
      "Mikey likes bikes\n",
      "Mikey likes bikes\n",
      "Mikey likes bikes\n",
      "Mikey likes bikes\n",
      "Mikey likes bikes\n",
      "Mikey likes bikes\n",
      "Mikey likes bikes\n",
      "Mikey likes bikes\n",
      "Mikey likes bikes\n",
      "Mikey likes bikes\n",
      "Mikey likes bikes\n",
      "Mikey likes bikes\n",
      "Mikey likes bikes\n",
      "Mikey likes bikes\n",
      "Mikey likes bikes\n",
      "Mikey likes bikes\n",
      "Mikey likes bikes\n",
      "Mikey likes bikes\n",
      "Mikey likes bikes\n",
      "Mikey likes bikes\n",
      "Mikey likes bikes\n",
      "Mikey likes bikes\n",
      "Mikey likes bikes\n",
      "Mikey likes bikes\n",
      "Mikey likes bikes\n",
      "Mikey likes bikes\n",
      "Mikey likes bikes\n",
      "Mikey likes bikes\n",
      "Mikey likes bikes\n",
      "Mikey likes bikes\n",
      "Mikey likes bikes\n",
      "Mikey likes bikes\n",
      "Mikey likes bikes\n"
     ]
    }
   ],
   "source": [
    "loopmax = 100\n",
    "loopcount = 0\n",
    "while loopcount <= loopmax:\n",
    "    print(\"Mikey likes bikes\")\n",
    "    loopcount = loopcount + 1"
   ]
  },
  {
   "cell_type": "markdown",
   "metadata": {},
   "source": [
    "This is a glorious waste of 1's and 0's, but it demonstrates how a tedious task can be left to a computer.  \n",
    "\n",
    "Another way to think of while loops is using them to figure out how many iterations are necessary to do something.  Check this out: What if I deposit 1.000 kilodollars in the bank at 2.1% interest per year?  How many years will it take before I have 1.000 megadollars in the bank?"
   ]
  },
  {
   "cell_type": "code",
   "execution_count": null,
   "metadata": {
    "collapsed": false
   },
   "outputs": [],
   "source": [
    "deposit = 1000\n",
    "interest = 0.021\n",
    "year = 1\n",
    "while deposit < 1000000:\n",
    "    deposit = deposit * (1.0 + interest)\n",
    "    year = year + 1\n",
    "\n",
    "print(year)"
   ]
  },
  {
   "cell_type": "markdown",
   "metadata": {},
   "source": [
    "Of course, there is a simpler way to do this calculation, but this is just a demonstration.  We can check with:  "
   ]
  },
  {
   "cell_type": "code",
   "execution_count": null,
   "metadata": {
    "collapsed": false
   },
   "outputs": [],
   "source": [
    "(1.021**334)*1000"
   ]
  },
  {
   "cell_type": "markdown",
   "metadata": {},
   "source": [
    "Looks legit.  Interest is a pretty simple thing to figure out, but there are some systems, called non-linear systems, for which analytical (i.e., pen and paper) calculations are just not possible.  We'll study some of these later on!  COOL.\n",
    "\n",
    "One thing that's worth noting is that the loop in the interest example is essentially calculating an integral.  If you can remember back to your old Simpson's method days from Calc I, you'll recognize that computers would be really good at adding up the areas of rectangles.\n",
    "\n",
    "***\n",
    "## IX) If statements\n",
    "\n",
    "Okay, one last thing to do this week: if statements.  python is good at checking whether statements are true or false.  Check it:"
   ]
  },
  {
   "cell_type": "code",
   "execution_count": null,
   "metadata": {
    "collapsed": false
   },
   "outputs": [],
   "source": [
    "2<3"
   ]
  },
  {
   "cell_type": "code",
   "execution_count": null,
   "metadata": {
    "collapsed": false
   },
   "outputs": [],
   "source": [
    "2<=2"
   ]
  },
  {
   "cell_type": "code",
   "execution_count": null,
   "metadata": {
    "collapsed": false
   },
   "outputs": [],
   "source": [
    "2<1"
   ]
  },
  {
   "cell_type": "code",
   "execution_count": null,
   "metadata": {
    "collapsed": false
   },
   "outputs": [],
   "source": [
    "0==1"
   ]
  },
  {
   "cell_type": "markdown",
   "metadata": {},
   "source": [
    "In python, and most languages, \"=\" and \"==\" are not =.  \"=\" means that one is setting the value of a variable to some quantity.  \"==\" is a comparator; it compares two things.  If they're equal, then the statement is True."
   ]
  },
  {
   "cell_type": "code",
   "execution_count": null,
   "metadata": {
    "collapsed": false
   },
   "outputs": [],
   "source": [
    "0==0"
   ]
  },
  {
   "cell_type": "code",
   "execution_count": null,
   "metadata": {
    "collapsed": false
   },
   "outputs": [],
   "source": [
    "200==200.0"
   ]
  },
  {
   "cell_type": "code",
   "execution_count": null,
   "metadata": {
    "collapsed": false
   },
   "outputs": [],
   "source": [
    "200 != 201"
   ]
  },
  {
   "cell_type": "code",
   "execution_count": null,
   "metadata": {
    "collapsed": false
   },
   "outputs": [],
   "source": [
    "200 != 200"
   ]
  },
  {
   "cell_type": "markdown",
   "metadata": {},
   "source": [
    "Cool.  If statements can be used to make pyhton do an operation given some condition.  See if you can figure out what this snippet does (you'll need to look up the % operator):"
   ]
  },
  {
   "cell_type": "code",
   "execution_count": 21,
   "metadata": {
    "collapsed": false
   },
   "outputs": [
    {
     "name": "stdout",
     "output_type": "stream",
     "text": [
      "7 343\n",
      "11 1331\n",
      "14 2744\n",
      "21 9261\n",
      "22 10648\n",
      "28 21952\n",
      "33 35937\n",
      "35 42875\n",
      "42 74088\n",
      "44 85184\n",
      "49 117649\n",
      "55 166375\n",
      "56 175616\n",
      "63 250047\n",
      "66 287496\n",
      "70 343000\n",
      "77 456533\n",
      "84 592704\n",
      "88 681472\n",
      "91 753571\n",
      "98 941192\n",
      "99 970299\n",
      "\n",
      "7 14\n",
      "11 8\n"
     ]
    }
   ],
   "source": [
    "ndivby7 = 0\n",
    "ndivby11 = 0\n",
    "for i in range(1,100):\n",
    "    if i**3 % 7 == 0:\n",
    "        print(i, i**3)\n",
    "        ndivby7 = ndivby7 + 1\n",
    "    elif i**3 % 11 == 0:\n",
    "        print(i, i**3)\n",
    "        ndivby11 = ndivby11 + 1\n",
    "\n",
    "print()\n",
    "print(7, ndivby7)\n",
    "print(11, ndivby11)"
   ]
  },
  {
   "cell_type": "markdown",
   "metadata": {},
   "source": [
    "Nice.\n",
    "***\n",
    "## Okay!  OKAY!  \n",
    "Now you know what you need to know to get started.  There are homework problems.  Do them in chunks.  Don't try to write a whole program all at one time.\n",
    "\n",
    "Please, please, please try to write each problem solution in a separate notebook.  This will keep you from having problems with rewriting variables (and problems with instructors losing their minds...).\n",
    "\n",
    "Here are some problems on which you can cut your teeth:\n",
    "* * *\n",
    "## X) PROBLEMZ\n",
    "\n",
    "1) Define a function that takes in a single value, x, and returns the value of the function 4x^2 - 6x + 1.\n",
    "\n",
    "2) Write a program that counts the number of perfect squares (cubes?) between 1 and 1000000.  Note that there are *at least* two ways to do this.\n",
    "\n",
    "\n",
    "# GOOD LUCK, HUMANS.\n",
    "\n",
    "### Sincerely,\n",
    "\n",
    "The Automator"
   ]
  },
  {
   "cell_type": "code",
   "execution_count": null,
   "metadata": {
    "collapsed": true
   },
   "outputs": [],
   "source": []
  }
 ],
 "metadata": {
  "kernelspec": {
   "display_name": "Python 3",
   "language": "python",
   "name": "python3"
  },
  "language_info": {
   "codemirror_mode": {
    "name": "ipython",
    "version": 3
   },
   "file_extension": ".py",
   "mimetype": "text/x-python",
   "name": "python",
   "nbconvert_exporter": "python",
   "pygments_lexer": "ipython3",
   "version": "3.6.0"
  }
 },
 "nbformat": 4,
 "nbformat_minor": 0
}
